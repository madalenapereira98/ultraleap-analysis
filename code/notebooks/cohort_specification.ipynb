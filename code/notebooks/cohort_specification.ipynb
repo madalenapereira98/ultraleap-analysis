{
 "cells": [
  {
   "cell_type": "markdown",
   "metadata": {},
   "source": [
    "Import public packages and functions"
   ]
  },
  {
   "cell_type": "code",
   "execution_count": 1,
   "metadata": {},
   "outputs": [],
   "source": [
    "import os\n",
    "import importlib\n",
    "import pandas as pd\n",
    "import numpy as np\n",
    "import matplotlib.pyplot as plt\n",
    "import csv\n",
    "import seaborn as sns\n",
    "import statistics as stat\n",
    "import json"
   ]
  },
  {
   "cell_type": "code",
   "execution_count": 2,
   "metadata": {},
   "outputs": [],
   "source": [
    "def get_repo_path_in_notebook():\n",
    "    \"\"\"\n",
    "    Finds path of repo from Notebook.\n",
    "    Start running this once to correctly find\n",
    "    other modules/functions\n",
    "    \"\"\"\n",
    "    path = os.getcwd()\n",
    "    repo_name = 'ultraleap_analysis'\n",
    "\n",
    "    while path[-len(repo_name):] != 'ultraleap_analysis':\n",
    "\n",
    "        path = os.path.dirname(path)\n",
    "\n",
    "    return path"
   ]
  },
  {
   "cell_type": "code",
   "execution_count": 3,
   "metadata": {},
   "outputs": [],
   "source": [
    "repo_path = get_repo_path_in_notebook()\n",
    "code_path = os.path.join(repo_path, 'code')\n",
    "os.chdir(code_path)"
   ]
  },
  {
   "cell_type": "markdown",
   "metadata": {},
   "source": [
    "Import own functions"
   ]
  },
  {
   "cell_type": "code",
   "execution_count": 4,
   "metadata": {},
   "outputs": [],
   "source": [
    "import sig_processing.extract_scores as sc_ext\n",
    "import sig_processing.predict as pred\n",
    "import plotting.boxplotting as bxplt"
   ]
  },
  {
   "cell_type": "markdown",
   "metadata": {},
   "source": [
    "### Cohort Specifications"
   ]
  },
  {
   "cell_type": "code",
   "execution_count": 5,
   "metadata": {},
   "outputs": [],
   "source": [
    "folder  = 'patientdata'"
   ]
  },
  {
   "cell_type": "markdown",
   "metadata": {},
   "source": [
    "Finger Tapping"
   ]
  },
  {
   "cell_type": "code",
   "execution_count": 6,
   "metadata": {},
   "outputs": [
    {
     "name": "stdout",
     "output_type": "stream",
     "text": [
      "No scores for block ('b1', 'ul020', 'm1s1', 'dt', 'ft', 'lh') or this combination does not exist\n",
      "No scores for block ('b2', 'ul020', 'm1s1', 'dt', 'ft', 'lh') or this combination does not exist\n",
      "No scores for block ('b3', 'ul020', 'm1s1', 'dt', 'ft', 'lh') or this combination does not exist\n"
     ]
    }
   ],
   "source": [
    "ft = 'ft'\n",
    "feat_df_path_ft = os.path.join(\n",
    "    repo_path,\n",
    "    'EDA',\n",
    "    folder,\n",
    "    ft, \n",
    "    'new_features.csv'\n",
    "    )\n",
    "\n",
    "X_df_ft = pd.read_csv(feat_df_path_ft, index_col=0)\n",
    "# Load scores/labels\n",
    "y_with_nan_ft = sc_ext.get_labels_for_feat_df(X_df_ft)\n",
    "y_ft = np.array([i for i in y_with_nan_ft if not np.isnan(i)])\n",
    "try:\n",
    "    X_df_ft = sc_ext.remove_non_score_rows(X_df_ft, y_with_nan_ft)\n",
    "except KeyError:\n",
    "    print('Non-scored/non-existing rows/blocks have already been scored.')"
   ]
  },
  {
   "cell_type": "code",
   "execution_count": 7,
   "metadata": {},
   "outputs": [
    {
     "data": {
      "text/html": [
       "<div>\n",
       "<style scoped>\n",
       "    .dataframe tbody tr th:only-of-type {\n",
       "        vertical-align: middle;\n",
       "    }\n",
       "\n",
       "    .dataframe tbody tr th {\n",
       "        vertical-align: top;\n",
       "    }\n",
       "\n",
       "    .dataframe thead th {\n",
       "        text-align: right;\n",
       "    }\n",
       "</style>\n",
       "<table border=\"1\" class=\"dataframe\">\n",
       "  <thead>\n",
       "    <tr style=\"text-align: right;\">\n",
       "      <th></th>\n",
       "      <th>task</th>\n",
       "      <th>score</th>\n",
       "    </tr>\n",
       "  </thead>\n",
       "  <tbody>\n",
       "    <tr>\n",
       "      <th>0</th>\n",
       "      <td>Finger Tapping</td>\n",
       "      <td>1</td>\n",
       "    </tr>\n",
       "    <tr>\n",
       "      <th>1</th>\n",
       "      <td>Finger Tapping</td>\n",
       "      <td>1</td>\n",
       "    </tr>\n",
       "    <tr>\n",
       "      <th>2</th>\n",
       "      <td>Finger Tapping</td>\n",
       "      <td>1</td>\n",
       "    </tr>\n",
       "    <tr>\n",
       "      <th>3</th>\n",
       "      <td>Finger Tapping</td>\n",
       "      <td>2</td>\n",
       "    </tr>\n",
       "    <tr>\n",
       "      <th>4</th>\n",
       "      <td>Finger Tapping</td>\n",
       "      <td>2</td>\n",
       "    </tr>\n",
       "    <tr>\n",
       "      <th>...</th>\n",
       "      <td>...</td>\n",
       "      <td>...</td>\n",
       "    </tr>\n",
       "    <tr>\n",
       "      <th>195</th>\n",
       "      <td>Finger Tapping</td>\n",
       "      <td>3</td>\n",
       "    </tr>\n",
       "    <tr>\n",
       "      <th>196</th>\n",
       "      <td>Finger Tapping</td>\n",
       "      <td>3</td>\n",
       "    </tr>\n",
       "    <tr>\n",
       "      <th>197</th>\n",
       "      <td>Finger Tapping</td>\n",
       "      <td>4</td>\n",
       "    </tr>\n",
       "    <tr>\n",
       "      <th>198</th>\n",
       "      <td>Finger Tapping</td>\n",
       "      <td>2</td>\n",
       "    </tr>\n",
       "    <tr>\n",
       "      <th>199</th>\n",
       "      <td>Finger Tapping</td>\n",
       "      <td>3</td>\n",
       "    </tr>\n",
       "  </tbody>\n",
       "</table>\n",
       "<p>200 rows × 2 columns</p>\n",
       "</div>"
      ],
      "text/plain": [
       "               task  score\n",
       "0    Finger Tapping      1\n",
       "1    Finger Tapping      1\n",
       "2    Finger Tapping      1\n",
       "3    Finger Tapping      2\n",
       "4    Finger Tapping      2\n",
       "..              ...    ...\n",
       "195  Finger Tapping      3\n",
       "196  Finger Tapping      3\n",
       "197  Finger Tapping      4\n",
       "198  Finger Tapping      2\n",
       "199  Finger Tapping      3\n",
       "\n",
       "[200 rows x 2 columns]"
      ]
     },
     "execution_count": 7,
     "metadata": {},
     "output_type": "execute_result"
    }
   ],
   "source": [
    "col_ft = ['Finger Tapping' for i in np.arange(0,len(y_ft))]\n",
    "df_ft = pd.DataFrame({\n",
    "    'task': col_ft,\n",
    "    'score':y_ft\n",
    "})\n",
    "df_ft"
   ]
  },
  {
   "cell_type": "markdown",
   "metadata": {},
   "source": [
    "Opening and Closing"
   ]
  },
  {
   "cell_type": "code",
   "execution_count": 8,
   "metadata": {},
   "outputs": [
    {
     "name": "stdout",
     "output_type": "stream",
     "text": [
      "No scores for block ('b1', 'ul020', 'm0s0', 'vr', 'oc', 'rh') or this combination does not exist\n",
      "No scores for block ('b2', 'ul020', 'm0s0', 'vr', 'oc', 'rh') or this combination does not exist\n",
      "No scores for block ('b1', 'ul020', 'm1s1', 'dt', 'oc', 'rh') or this combination does not exist\n",
      "No scores for block ('b2', 'ul020', 'm1s1', 'dt', 'oc', 'rh') or this combination does not exist\n",
      "No scores for block ('b1', 'ul020', 'm0s0', 'vr', 'oc', 'lh') or this combination does not exist\n",
      "No scores for block ('b2', 'ul020', 'm0s0', 'vr', 'oc', 'lh') or this combination does not exist\n",
      "No scores for block ('b1', 'ul020', 'm1s1', 'dt', 'oc', 'lh') or this combination does not exist\n",
      "No scores for block ('b2', 'ul020', 'm1s1', 'dt', 'oc', 'lh') or this combination does not exist\n"
     ]
    }
   ],
   "source": [
    "oc = 'oc'\n",
    "feat_df_path_oc = os.path.join(\n",
    "    repo_path,\n",
    "    'EDA',\n",
    "    folder,\n",
    "    oc, \n",
    "    'new_features.csv'\n",
    "    )\n",
    "\n",
    "X_df_oc = pd.read_csv(feat_df_path_oc, index_col=0)\n",
    "# Load scores/labels\n",
    "y_with_nan_oc = sc_ext.get_labels_for_feat_df(X_df_oc)\n",
    "y_oc = np.array([i for i in y_with_nan_oc if not np.isnan(i)])\n",
    "try:\n",
    "    X_df_oc = sc_ext.remove_non_score_rows(X_df_oc, y_with_nan_oc)\n",
    "except KeyError:\n",
    "    print('Non-scored/non-existing rows/blocks have already been scored.')"
   ]
  },
  {
   "cell_type": "code",
   "execution_count": 9,
   "metadata": {},
   "outputs": [
    {
     "data": {
      "text/html": [
       "<div>\n",
       "<style scoped>\n",
       "    .dataframe tbody tr th:only-of-type {\n",
       "        vertical-align: middle;\n",
       "    }\n",
       "\n",
       "    .dataframe tbody tr th {\n",
       "        vertical-align: top;\n",
       "    }\n",
       "\n",
       "    .dataframe thead th {\n",
       "        text-align: right;\n",
       "    }\n",
       "</style>\n",
       "<table border=\"1\" class=\"dataframe\">\n",
       "  <thead>\n",
       "    <tr style=\"text-align: right;\">\n",
       "      <th></th>\n",
       "      <th>task</th>\n",
       "      <th>score</th>\n",
       "    </tr>\n",
       "  </thead>\n",
       "  <tbody>\n",
       "    <tr>\n",
       "      <th>0</th>\n",
       "      <td>Opening Closing</td>\n",
       "      <td>2</td>\n",
       "    </tr>\n",
       "    <tr>\n",
       "      <th>1</th>\n",
       "      <td>Opening Closing</td>\n",
       "      <td>2</td>\n",
       "    </tr>\n",
       "    <tr>\n",
       "      <th>2</th>\n",
       "      <td>Opening Closing</td>\n",
       "      <td>1</td>\n",
       "    </tr>\n",
       "    <tr>\n",
       "      <th>3</th>\n",
       "      <td>Opening Closing</td>\n",
       "      <td>2</td>\n",
       "    </tr>\n",
       "    <tr>\n",
       "      <th>4</th>\n",
       "      <td>Opening Closing</td>\n",
       "      <td>2</td>\n",
       "    </tr>\n",
       "    <tr>\n",
       "      <th>...</th>\n",
       "      <td>...</td>\n",
       "      <td>...</td>\n",
       "    </tr>\n",
       "    <tr>\n",
       "      <th>157</th>\n",
       "      <td>Opening Closing</td>\n",
       "      <td>3</td>\n",
       "    </tr>\n",
       "    <tr>\n",
       "      <th>158</th>\n",
       "      <td>Opening Closing</td>\n",
       "      <td>3</td>\n",
       "    </tr>\n",
       "    <tr>\n",
       "      <th>159</th>\n",
       "      <td>Opening Closing</td>\n",
       "      <td>2</td>\n",
       "    </tr>\n",
       "    <tr>\n",
       "      <th>160</th>\n",
       "      <td>Opening Closing</td>\n",
       "      <td>3</td>\n",
       "    </tr>\n",
       "    <tr>\n",
       "      <th>161</th>\n",
       "      <td>Opening Closing</td>\n",
       "      <td>2</td>\n",
       "    </tr>\n",
       "  </tbody>\n",
       "</table>\n",
       "<p>162 rows × 2 columns</p>\n",
       "</div>"
      ],
      "text/plain": [
       "                task  score\n",
       "0    Opening Closing      2\n",
       "1    Opening Closing      2\n",
       "2    Opening Closing      1\n",
       "3    Opening Closing      2\n",
       "4    Opening Closing      2\n",
       "..               ...    ...\n",
       "157  Opening Closing      3\n",
       "158  Opening Closing      3\n",
       "159  Opening Closing      2\n",
       "160  Opening Closing      3\n",
       "161  Opening Closing      2\n",
       "\n",
       "[162 rows x 2 columns]"
      ]
     },
     "execution_count": 9,
     "metadata": {},
     "output_type": "execute_result"
    }
   ],
   "source": [
    "col_oc = ['Opening Closing' for i in np.arange(0,len(y_oc))]\n",
    "df_oc = pd.DataFrame({\n",
    "    'task': col_oc,\n",
    "    'score':y_oc\n",
    "})\n",
    "df_oc"
   ]
  },
  {
   "cell_type": "markdown",
   "metadata": {},
   "source": [
    "Pronation Supination"
   ]
  },
  {
   "cell_type": "code",
   "execution_count": 10,
   "metadata": {},
   "outputs": [
    {
     "name": "stdout",
     "output_type": "stream",
     "text": [
      "No scores for block ('b1', 'ul020', 'm0s0', 'vr', 'ps', 'rh') or this combination does not exist\n",
      "No scores for block ('b2', 'ul020', 'm0s0', 'vr', 'ps', 'rh') or this combination does not exist\n",
      "No scores for block ('b1', 'ul020', 'm1s1', 'dt', 'ps', 'rh') or this combination does not exist\n",
      "No scores for block ('b2', 'ul020', 'm1s1', 'dt', 'ps', 'rh') or this combination does not exist\n",
      "No scores for block ('b1', 'ul020', 'm0s0', 'vr', 'ps', 'lh') or this combination does not exist\n",
      "No scores for block ('b2', 'ul020', 'm0s0', 'vr', 'ps', 'lh') or this combination does not exist\n",
      "No scores for block ('b1', 'ul020', 'm1s1', 'dt', 'ps', 'lh') or this combination does not exist\n",
      "No scores for block ('b2', 'ul020', 'm1s1', 'dt', 'ps', 'lh') or this combination does not exist\n"
     ]
    }
   ],
   "source": [
    "ps = 'ps'\n",
    "feat_df_path_ps = os.path.join(\n",
    "    repo_path,\n",
    "    'EDA',\n",
    "    folder,\n",
    "    ps, \n",
    "    'new_features.csv'\n",
    "    )\n",
    "\n",
    "X_df_ps = pd.read_csv(feat_df_path_ps, index_col=0)\n",
    "# Load scores/labels\n",
    "y_with_nan_ps = sc_ext.get_labels_for_feat_df(X_df_ps)\n",
    "y_ps = np.array([i for i in y_with_nan_ps if not np.isnan(i)])\n",
    "try:\n",
    "    X_df_ps = sc_ext.remove_non_score_rows(X_df_ps, y_with_nan_ps)\n",
    "except KeyError:\n",
    "    print('Non-scored/non-existing rows/blocks have already been scored.')"
   ]
  },
  {
   "cell_type": "code",
   "execution_count": 11,
   "metadata": {},
   "outputs": [
    {
     "data": {
      "text/html": [
       "<div>\n",
       "<style scoped>\n",
       "    .dataframe tbody tr th:only-of-type {\n",
       "        vertical-align: middle;\n",
       "    }\n",
       "\n",
       "    .dataframe tbody tr th {\n",
       "        vertical-align: top;\n",
       "    }\n",
       "\n",
       "    .dataframe thead th {\n",
       "        text-align: right;\n",
       "    }\n",
       "</style>\n",
       "<table border=\"1\" class=\"dataframe\">\n",
       "  <thead>\n",
       "    <tr style=\"text-align: right;\">\n",
       "      <th></th>\n",
       "      <th>task</th>\n",
       "      <th>score</th>\n",
       "    </tr>\n",
       "  </thead>\n",
       "  <tbody>\n",
       "    <tr>\n",
       "      <th>0</th>\n",
       "      <td>Pronation Supination</td>\n",
       "      <td>2</td>\n",
       "    </tr>\n",
       "    <tr>\n",
       "      <th>1</th>\n",
       "      <td>Pronation Supination</td>\n",
       "      <td>2</td>\n",
       "    </tr>\n",
       "    <tr>\n",
       "      <th>2</th>\n",
       "      <td>Pronation Supination</td>\n",
       "      <td>1</td>\n",
       "    </tr>\n",
       "    <tr>\n",
       "      <th>3</th>\n",
       "      <td>Pronation Supination</td>\n",
       "      <td>1</td>\n",
       "    </tr>\n",
       "    <tr>\n",
       "      <th>4</th>\n",
       "      <td>Pronation Supination</td>\n",
       "      <td>2</td>\n",
       "    </tr>\n",
       "    <tr>\n",
       "      <th>...</th>\n",
       "      <td>...</td>\n",
       "      <td>...</td>\n",
       "    </tr>\n",
       "    <tr>\n",
       "      <th>171</th>\n",
       "      <td>Pronation Supination</td>\n",
       "      <td>3</td>\n",
       "    </tr>\n",
       "    <tr>\n",
       "      <th>172</th>\n",
       "      <td>Pronation Supination</td>\n",
       "      <td>1</td>\n",
       "    </tr>\n",
       "    <tr>\n",
       "      <th>173</th>\n",
       "      <td>Pronation Supination</td>\n",
       "      <td>1</td>\n",
       "    </tr>\n",
       "    <tr>\n",
       "      <th>174</th>\n",
       "      <td>Pronation Supination</td>\n",
       "      <td>2</td>\n",
       "    </tr>\n",
       "    <tr>\n",
       "      <th>175</th>\n",
       "      <td>Pronation Supination</td>\n",
       "      <td>2</td>\n",
       "    </tr>\n",
       "  </tbody>\n",
       "</table>\n",
       "<p>176 rows × 2 columns</p>\n",
       "</div>"
      ],
      "text/plain": [
       "                     task  score\n",
       "0    Pronation Supination      2\n",
       "1    Pronation Supination      2\n",
       "2    Pronation Supination      1\n",
       "3    Pronation Supination      1\n",
       "4    Pronation Supination      2\n",
       "..                    ...    ...\n",
       "171  Pronation Supination      3\n",
       "172  Pronation Supination      1\n",
       "173  Pronation Supination      1\n",
       "174  Pronation Supination      2\n",
       "175  Pronation Supination      2\n",
       "\n",
       "[176 rows x 2 columns]"
      ]
     },
     "execution_count": 11,
     "metadata": {},
     "output_type": "execute_result"
    }
   ],
   "source": [
    "col_ps = ['Pronation Supination' for i in np.arange(0,len(y_ps))]\n",
    "df_ps = pd.DataFrame({\n",
    "    'task': col_ps,\n",
    "    'score':y_ps\n",
    "})\n",
    "df_ps"
   ]
  },
  {
   "cell_type": "code",
   "execution_count": 12,
   "metadata": {},
   "outputs": [
    {
     "data": {
      "text/html": [
       "<div>\n",
       "<style scoped>\n",
       "    .dataframe tbody tr th:only-of-type {\n",
       "        vertical-align: middle;\n",
       "    }\n",
       "\n",
       "    .dataframe tbody tr th {\n",
       "        vertical-align: top;\n",
       "    }\n",
       "\n",
       "    .dataframe thead th {\n",
       "        text-align: right;\n",
       "    }\n",
       "</style>\n",
       "<table border=\"1\" class=\"dataframe\">\n",
       "  <thead>\n",
       "    <tr style=\"text-align: right;\">\n",
       "      <th></th>\n",
       "      <th>task</th>\n",
       "      <th>score</th>\n",
       "    </tr>\n",
       "  </thead>\n",
       "  <tbody>\n",
       "    <tr>\n",
       "      <th>0</th>\n",
       "      <td>Finger Tapping</td>\n",
       "      <td>1</td>\n",
       "    </tr>\n",
       "    <tr>\n",
       "      <th>1</th>\n",
       "      <td>Finger Tapping</td>\n",
       "      <td>1</td>\n",
       "    </tr>\n",
       "    <tr>\n",
       "      <th>2</th>\n",
       "      <td>Finger Tapping</td>\n",
       "      <td>1</td>\n",
       "    </tr>\n",
       "    <tr>\n",
       "      <th>3</th>\n",
       "      <td>Finger Tapping</td>\n",
       "      <td>2</td>\n",
       "    </tr>\n",
       "    <tr>\n",
       "      <th>4</th>\n",
       "      <td>Finger Tapping</td>\n",
       "      <td>2</td>\n",
       "    </tr>\n",
       "    <tr>\n",
       "      <th>...</th>\n",
       "      <td>...</td>\n",
       "      <td>...</td>\n",
       "    </tr>\n",
       "    <tr>\n",
       "      <th>171</th>\n",
       "      <td>Pronation Supination</td>\n",
       "      <td>3</td>\n",
       "    </tr>\n",
       "    <tr>\n",
       "      <th>172</th>\n",
       "      <td>Pronation Supination</td>\n",
       "      <td>1</td>\n",
       "    </tr>\n",
       "    <tr>\n",
       "      <th>173</th>\n",
       "      <td>Pronation Supination</td>\n",
       "      <td>1</td>\n",
       "    </tr>\n",
       "    <tr>\n",
       "      <th>174</th>\n",
       "      <td>Pronation Supination</td>\n",
       "      <td>2</td>\n",
       "    </tr>\n",
       "    <tr>\n",
       "      <th>175</th>\n",
       "      <td>Pronation Supination</td>\n",
       "      <td>2</td>\n",
       "    </tr>\n",
       "  </tbody>\n",
       "</table>\n",
       "<p>538 rows × 2 columns</p>\n",
       "</div>"
      ],
      "text/plain": [
       "                     task  score\n",
       "0          Finger Tapping      1\n",
       "1          Finger Tapping      1\n",
       "2          Finger Tapping      1\n",
       "3          Finger Tapping      2\n",
       "4          Finger Tapping      2\n",
       "..                    ...    ...\n",
       "171  Pronation Supination      3\n",
       "172  Pronation Supination      1\n",
       "173  Pronation Supination      1\n",
       "174  Pronation Supination      2\n",
       "175  Pronation Supination      2\n",
       "\n",
       "[538 rows x 2 columns]"
      ]
     },
     "execution_count": 12,
     "metadata": {},
     "output_type": "execute_result"
    }
   ],
   "source": [
    "df_tasks = pd.concat([df_ft,df_oc,df_ps])\n",
    "df_tasks"
   ]
  },
  {
   "cell_type": "code",
   "execution_count": 14,
   "metadata": {},
   "outputs": [
    {
     "name": "stdout",
     "output_type": "stream",
     "text": [
      "score                  0   1   2   3  4\n",
      "task                                   \n",
      "Finger Tapping        13  86  74  24  3\n",
      "Opening Closing        6  35  94  27  0\n",
      "Pronation Supination  16  58  66  34  2\n"
     ]
    }
   ],
   "source": [
    "pivot_table = df_tasks[['task','score']].pivot_table(index='task', columns='score', \n",
    "                                              aggfunc=len, fill_value=0)\n",
    "print(pivot_table)"
   ]
  },
  {
   "cell_type": "code",
   "execution_count": 147,
   "metadata": {},
   "outputs": [],
   "source": [
    "from tabulate import tabulate"
   ]
  },
  {
   "cell_type": "code",
   "execution_count": 164,
   "metadata": {},
   "outputs": [
    {
     "name": "stdout",
     "output_type": "stream",
     "text": [
      "+----------------------+----+----+----+----+---+\n",
      "|         task         | 0  | 1  | 2  | 3  | 4 |\n",
      "+----------------------+----+----+----+----+---+\n",
      "|    Finger Tapping    | 13 | 86 | 74 | 24 | 3 |\n",
      "|   Opening Closing    | 6  | 35 | 94 | 27 | 0 |\n",
      "| Pronation Supination | 16 | 58 | 66 | 34 | 2 |\n",
      "+----------------------+----+----+----+----+---+\n"
     ]
    }
   ],
   "source": [
    "# print(tabulate(pivot_table, headers='keys',tablefmt='latex'))\n",
    "print(tabulate(pivot_table, headers='keys',tablefmt='pretty'))"
   ]
  },
  {
   "cell_type": "code",
   "execution_count": 22,
   "metadata": {},
   "outputs": [
    {
     "data": {
      "text/plain": [
       "([<matplotlib.axis.YTick at 0x1f6f1e6bfa0>,\n",
       "  <matplotlib.axis.YTick at 0x1f6f1e6b940>,\n",
       "  <matplotlib.axis.YTick at 0x1f6f1e61c40>,\n",
       "  <matplotlib.axis.YTick at 0x1f6f1ed2bb0>,\n",
       "  <matplotlib.axis.YTick at 0x1f6f1edb6a0>,\n",
       "  <matplotlib.axis.YTick at 0x1f6f1edbdf0>],\n",
       " [Text(0, 0, '0'),\n",
       "  Text(0, 20, '20'),\n",
       "  Text(0, 40, '40'),\n",
       "  Text(0, 60, '60'),\n",
       "  Text(0, 80, '80'),\n",
       "  Text(0, 100, '100')])"
      ]
     },
     "execution_count": 22,
     "metadata": {},
     "output_type": "execute_result"
    },
    {
     "data": {
      "text/plain": [
       "<Figure size 1500x2200 with 0 Axes>"
      ]
     },
     "metadata": {},
     "output_type": "display_data"
    },
    {
     "data": {
      "image/png": "[encoded data removed]",
      "text/plain": [
       "<Figure size 640x480 with 1 Axes>"
      ]
     },
     "metadata": {},
     "output_type": "display_data"
    }
   ],
   "source": [
    "fig = plt.figure(figsize=(15,22))\n",
    "pivot_table.plot.bar(colormap='summer', rot=1)\n",
    "plt.ylabel('Number of patients in population')\n",
    "plt.xlabel('')\n",
    "plt.legend(title='MDS-UPDRS Part III scores', bbox_to_anchor=(0.5, 1.08), loc='center', ncol=len(pivot_table.columns))\n",
    "plt.yticks([0,20,40,60,80,100])"
   ]
  },
  {
   "cell_type": "code",
   "execution_count": null,
   "metadata": {},
   "outputs": [],
   "source": []
  }
 ],
 "metadata": {
  "kernelspec": {
   "display_name": "ultraleap",
   "language": "python",
   "name": "python3"
  },
  "language_info": {
   "codemirror_mode": {
    "name": "ipython",
    "version": 3
   },
   "file_extension": ".py",
   "mimetype": "text/x-python",
   "name": "python",
   "nbconvert_exporter": "python",
   "pygments_lexer": "ipython3",
   "version": "3.9.16"
  },
  "orig_nbformat": 4
 },
 "nbformat": 4,
 "nbformat_minor": 2
}
